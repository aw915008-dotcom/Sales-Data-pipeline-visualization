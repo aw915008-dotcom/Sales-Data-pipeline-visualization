{
 "cells": [
  {
   "cell_type": "code",
   "execution_count": 1,
   "id": "ca101afc",
   "metadata": {},
   "outputs": [],
   "source": [
    "from flask import Flask , request , jsonify\n",
    "import pyodbc\n",
    "import pymongo\n",
    "from pymongo import MongoClient\n",
    "from bson.objectid import ObjectId\n",
    "import threading\n",
    "import time\n",
    "from datetime import datetime, date\n",
    "from decimal import Decimal\n",
    "import numpy as np\n",
    "import pandas as pd \n",
    "import matplotlib.pyplot as plt\n",
    "import seaborn as sns\n",
    "import requests"
   ]
  },
  {
   "cell_type": "code",
   "execution_count": 2,
   "id": "dcbb247e",
   "metadata": {},
   "outputs": [],
   "source": [
    "def connect_db():\n",
    "    conn_str = (\n",
    "        'DRIVER={ODBC Driver 17 for SQL Server};'\n",
    "        'SERVER=localhost\\\\SQLEXPRESS;'\n",
    "        'DATABASE=SalesDB;'\n",
    "        'Trusted_Connection=yes;'\n",
    "    )\n",
    "    return pyodbc.connect(conn_str)"
   ]
  },
  {
   "cell_type": "code",
   "execution_count": 3,
   "id": "9716d6cd",
   "metadata": {},
   "outputs": [],
   "source": [
    "def get_mongo_collection():\n",
    "    client = MongoClient(\"mongodb://localhost:27017/\")  # adjust if needed\n",
    "    db = client[\"MyDatabase\"]  # database name\n",
    "    return db[\"RetailCustomerData_Coll\"]  # collection name"
   ]
  },
  {
   "cell_type": "code",
   "execution_count": 4,
   "id": "06ca95fb",
   "metadata": {},
   "outputs": [],
   "source": [
    "app = Flask(__name__)"
   ]
  },
  {
   "cell_type": "code",
   "execution_count": 5,
   "id": "93acb820",
   "metadata": {},
   "outputs": [],
   "source": [
    "# ---------- Sync Endpoint ----------\n",
    "@app.route('/sync-to-mongo', methods=['POST'])\n",
    "def sync_to_mongo():\n",
    "    try:\n",
    "        join_query = \"\"\"\n",
    "        SELECT \n",
    "            c.CustomerID,\n",
    "            c.Name AS CustomerName,\n",
    "            c.Gender,\n",
    "            c.BirthDate,\n",
    "            c.City AS CustomerCity,\n",
    "            b.BranchID,\n",
    "            b.BranchName,\n",
    "            b.City AS BranchCity,\n",
    "            s.SaleID,\n",
    "            s.SaleDate,\n",
    "            s.TotalAmount,\n",
    "            p.ProductID,\n",
    "            p.ProductName,\n",
    "            p.Category,\n",
    "            sd.Quantity,\n",
    "            sd.UnitPrice,\n",
    "            (sd.Quantity * sd.UnitPrice) AS TotalPrice\n",
    "        FROM Customers c\n",
    "        JOIN Sales s ON c.CustomerID = s.CustomerID\n",
    "        JOIN Branches b ON s.BranchID = b.BranchID\n",
    "        JOIN SaleDetails sd ON s.SaleID = sd.SaleID\n",
    "        JOIN Products p ON sd.ProductID = p.ProductID\n",
    "        \"\"\"\n",
    "\n",
    "        # Get SQL data\n",
    "        conn = connect_db()\n",
    "        df = pd.read_sql(join_query, conn)\n",
    "        conn.close()\n",
    "\n",
    "        # 🔹 Convert BirthDate & SaleDate to datetime.datetime objects\n",
    "        for col in [\"BirthDate\", \"SaleDate\"]:\n",
    "            if col in df.columns:\n",
    "                df[col] = pd.to_datetime(df[col], errors=\"coerce\")  # handles invalid dates\n",
    "\n",
    "        # Convert DataFrame to list of dicts\n",
    "        data_records = df.to_dict(orient=\"records\")\n",
    "\n",
    "        # Insert into MongoDB\n",
    "        col = get_mongo_collection()\n",
    "        col.delete_many({})  # Clear old data\n",
    "        if data_records:\n",
    "            col.insert_many(data_records)\n",
    "\n",
    "        return jsonify({\n",
    "            \"message\": f\"Synced {len(data_records)} records into MongoDB collection 'retail_data' with proper datetime fields\"\n",
    "        }), 201\n",
    "\n",
    "    except Exception as e:\n",
    "        return jsonify({\"error\": str(e)}), 500"
   ]
  },
  {
   "cell_type": "code",
   "execution_count": 6,
   "id": "affad162",
   "metadata": {},
   "outputs": [
    {
     "name": "stdout",
     "output_type": "stream",
     "text": [
      " * Serving Flask app '__main__'\n",
      " * Debug mode: off\n"
     ]
    },
    {
     "name": "stderr",
     "output_type": "stream",
     "text": [
      "WARNING: This is a development server. Do not use it in a production deployment. Use a production WSGI server instead.\n",
      " * Running on http://127.0.0.1:5000\n",
      "Press CTRL+C to quit\n"
     ]
    },
    {
     "name": "stderr",
     "output_type": "stream",
     "text": [
      "C:\\Users\\Soft LapTop\\AppData\\Local\\Temp\\ipykernel_25956\\4217954131.py:33: UserWarning: pandas only supports SQLAlchemy connectable (engine/connection) or database string URI or sqlite3 DBAPI2 connection. Other DBAPI2 objects are not tested. Please consider using SQLAlchemy.\n",
      "  df = pd.read_sql(join_query, conn)\n",
      "127.0.0.1 - - [27/Aug/2025 23:54:36] \"POST /sync-to-mongo HTTP/1.1\" 201 -\n",
      "127.0.0.1 - - [27/Aug/2025 23:54:51] \"POST /generate_sales_collection HTTP/1.1\" 404 -\n"
     ]
    }
   ],
   "source": [
    "# Code to Run the Flask API \n",
    "def run_flask():\n",
    "    app.run(port=5000, debug=False, use_reloader=False)\n",
    "\n",
    "# Code to Run the Flask API in a separate thread in the background  \n",
    "threading.Thread(target=run_flask).start()\n",
    "time.sleep(1)"
   ]
  },
  {
   "cell_type": "code",
   "execution_count": 7,
   "id": "7b417de6",
   "metadata": {},
   "outputs": [
    {
     "name": "stdout",
     "output_type": "stream",
     "text": [
      "Status Code: 201\n",
      "Response JSON: {'message': \"Synced 1496 records into MongoDB collection 'retail_data' with proper datetime fields\"}\n"
     ]
    }
   ],
   "source": [
    "# Make POST request to sync SQL Server -> MongoDB\n",
    "sync_resp = requests.post(\"http://127.0.0.1:5000/sync-to-mongo\")\n",
    "\n",
    "# Print the status and the JSON response\n",
    "print(\"Status Code:\", sync_resp.status_code)\n",
    "print(\"Response JSON:\", sync_resp.json())"
   ]
  }
 ],
 "metadata": {
  "kernelspec": {
   "display_name": "Python 3",
   "language": "python",
   "name": "python3"
  },
  "language_info": {
   "codemirror_mode": {
    "name": "ipython",
    "version": 3
   },
   "file_extension": ".py",
   "mimetype": "text/x-python",
   "name": "python",
   "nbconvert_exporter": "python",
   "pygments_lexer": "ipython3",
   "version": "3.12.0"
  }
 },
 "nbformat": 4,
 "nbformat_minor": 5
}
